{
  "cells": [
    {
      "cell_type": "markdown",
      "id": "6a2269d5-44a4-46af-8721-9fc07c11986b",
      "metadata": {
        "id": "6a2269d5-44a4-46af-8721-9fc07c11986b"
      },
      "source": [
        "<h1>palAI & mAIs: Comparative Analysis of Machine\n",
        "Learning Algorithms for Forecasting Palay and\n",
        "Corn Production in Region VI (Western Visayas)</h1>"
      ]
    },
    {
      "cell_type": "markdown",
      "id": "bfa8699b-c60c-4310-856d-0771ace3bd9c",
      "metadata": {
        "id": "bfa8699b-c60c-4310-856d-0771ace3bd9c"
      },
      "source": [
        "<h3>CMSC 197 Mini Project</h3>\n",
        "<h4>AI Powered-Team (Manejo, Pajarilla, Vito)</h4>"
      ]
    },
    {
      "cell_type": "markdown",
      "id": "b37dfb1b-a76f-4536-b9a5-f7adef249b3f",
      "metadata": {
        "id": "b37dfb1b-a76f-4536-b9a5-f7adef249b3f"
      },
      "source": [
        "<h3>Table of Contents</h3>\n",
        "\n",
        "<ul>\n",
        "    <li>Data Exploration</li>\n",
        "    <li>Preprocessing</li>\n",
        "    <li>Implementation of Machine Learning Algorithms\n",
        "        <ul>\n",
        "\t\t<li>Linear Regression</li>\n",
        "            <li>Random Forest Regression</li>\n",
        "            <li>Support Vector Regression</li>\n",
        "            <li> K-Nearest Neighbor (KNN)</li>\n",
        "            <li>XGBoost</li>\n",
        "            <li>Artificial Neural Network (ANN)</li>\n",
        "        </ul>\n",
        "    </li>\n",
        "</ul>"
      ]
    },
    {
      "cell_type": "markdown",
      "id": "203d1c96-a58b-46b8-ae21-45a2f28eddd2",
      "metadata": {
        "id": "203d1c96-a58b-46b8-ae21-45a2f28eddd2"
      },
      "source": [
        "<hr>\n",
        "<h2> Preprocessing</h2>\n",
        "<hr>"
      ]
    },
    {
      "cell_type": "markdown",
      "id": "ee43f0b6-fb3f-4a14-ae90-dfa9b9052b02",
      "metadata": {
        "id": "ee43f0b6-fb3f-4a14-ae90-dfa9b9052b02"
      },
      "source": [
        "<h4> Importing Libraries </h4>"
      ]
    },
    {
      "cell_type": "code",
      "execution_count": 1,
      "id": "8e09ff35-127f-4079-8805-4a7525d3c577",
      "metadata": {
        "id": "8e09ff35-127f-4079-8805-4a7525d3c577"
      },
      "outputs": [],
      "source": [
        "# standard libraries\n",
        "import numpy as np\n",
        "import pandas as pd\n",
        "import matplotlib.pyplot as plt\n",
        "import seaborn as sns\n",
        "\n",
        "#### machine learning algorithms ####\n",
        "from sklearn.ensemble import RandomForestRegressor\n",
        "from sklearn.svm import SVR\n",
        "from sklearn.linear_model import LinearRegression\n",
        "# from sklearn.linear_model import Ridge\n",
        "from sklearn.model_selection import train_test_split\n",
        "import xgboost as xgb\n",
        "from sklearn.neighbors import KNeighborsRegressor\n",
        "\n",
        "# for ANN\n",
        "# from tensorflow.keras.models import Sequential\n",
        "# from tensorflow.keras.layers import Dense\n",
        "# from tensorflow.keras.optimizers import Adam\n",
        "\n",
        "# for preprocessing\n",
        "from sklearn.preprocessing import LabelEncoder\n",
        "from sklearn.impute import SimpleImputer\n",
        "from sklearn.model_selection import GridSearchCV\n",
        "from sklearn.preprocessing import StandardScaler\n",
        "from sklearn.preprocessing import OneHotEncoder\n",
        "\n",
        "#### metrics of evaluation ####\n",
        "from sklearn.metrics import mean_absolute_error\n",
        "from sklearn.metrics import mean_squared_error\n",
        "from sklearn.metrics import r2_score\n",
        "\n",
        "### time series ###\n",
        "from statsmodels.tsa.seasonal import seasonal_decompose"
      ]
    },
    {
      "cell_type": "markdown",
      "id": "d3daa006-dacf-4a84-8f14-5b45336e53b7",
      "metadata": {
        "id": "d3daa006-dacf-4a84-8f14-5b45336e53b7"
      },
      "source": [
        "<h4> Load production volume and area harvested dataset </h4>"
      ]
    },
    {
      "cell_type": "code",
      "execution_count": 2,
      "id": "acddb3d5-4e8d-4e12-a1b4-b02eafe17c40",
      "metadata": {
        "id": "acddb3d5-4e8d-4e12-a1b4-b02eafe17c40",
        "outputId": "7e2a1511-271b-4e90-d56c-e4898a0bc70a",
        "colab": {
          "base_uri": "https://localhost:8080/",
          "height": 330
        }
      },
      "outputs": [
        {
          "output_type": "error",
          "ename": "FileNotFoundError",
          "evalue": "[Errno 2] No such file or directory: 'dataset/Production_volume.csv'",
          "traceback": [
            "\u001b[0;31m---------------------------------------------------------------------------\u001b[0m",
            "\u001b[0;31mFileNotFoundError\u001b[0m                         Traceback (most recent call last)",
            "\u001b[0;32m<ipython-input-2-dea913b5eabb>\u001b[0m in \u001b[0;36m<cell line: 1>\u001b[0;34m()\u001b[0m\n\u001b[0;32m----> 1\u001b[0;31m \u001b[0mproduction_data\u001b[0m \u001b[0;34m=\u001b[0m \u001b[0mpd\u001b[0m\u001b[0;34m.\u001b[0m\u001b[0mread_csv\u001b[0m\u001b[0;34m(\u001b[0m\u001b[0;34m'dataset/Production_volume.csv'\u001b[0m\u001b[0;34m)\u001b[0m\u001b[0;34m\u001b[0m\u001b[0;34m\u001b[0m\u001b[0m\n\u001b[0m\u001b[1;32m      2\u001b[0m \u001b[0marea_data\u001b[0m \u001b[0;34m=\u001b[0m \u001b[0mpd\u001b[0m\u001b[0;34m.\u001b[0m\u001b[0mread_csv\u001b[0m\u001b[0;34m(\u001b[0m\u001b[0;34m'dataset/Area_harvested.csv'\u001b[0m\u001b[0;34m)\u001b[0m\u001b[0;34m\u001b[0m\u001b[0;34m\u001b[0m\u001b[0m\n",
            "\u001b[0;32m/usr/local/lib/python3.10/dist-packages/pandas/io/parsers/readers.py\u001b[0m in \u001b[0;36mread_csv\u001b[0;34m(filepath_or_buffer, sep, delimiter, header, names, index_col, usecols, dtype, engine, converters, true_values, false_values, skipinitialspace, skiprows, skipfooter, nrows, na_values, keep_default_na, na_filter, verbose, skip_blank_lines, parse_dates, infer_datetime_format, keep_date_col, date_parser, date_format, dayfirst, cache_dates, iterator, chunksize, compression, thousands, decimal, lineterminator, quotechar, quoting, doublequote, escapechar, comment, encoding, encoding_errors, dialect, on_bad_lines, delim_whitespace, low_memory, memory_map, float_precision, storage_options, dtype_backend)\u001b[0m\n\u001b[1;32m   1024\u001b[0m     \u001b[0mkwds\u001b[0m\u001b[0;34m.\u001b[0m\u001b[0mupdate\u001b[0m\u001b[0;34m(\u001b[0m\u001b[0mkwds_defaults\u001b[0m\u001b[0;34m)\u001b[0m\u001b[0;34m\u001b[0m\u001b[0;34m\u001b[0m\u001b[0m\n\u001b[1;32m   1025\u001b[0m \u001b[0;34m\u001b[0m\u001b[0m\n\u001b[0;32m-> 1026\u001b[0;31m     \u001b[0;32mreturn\u001b[0m \u001b[0m_read\u001b[0m\u001b[0;34m(\u001b[0m\u001b[0mfilepath_or_buffer\u001b[0m\u001b[0;34m,\u001b[0m \u001b[0mkwds\u001b[0m\u001b[0;34m)\u001b[0m\u001b[0;34m\u001b[0m\u001b[0;34m\u001b[0m\u001b[0m\n\u001b[0m\u001b[1;32m   1027\u001b[0m \u001b[0;34m\u001b[0m\u001b[0m\n\u001b[1;32m   1028\u001b[0m \u001b[0;34m\u001b[0m\u001b[0m\n",
            "\u001b[0;32m/usr/local/lib/python3.10/dist-packages/pandas/io/parsers/readers.py\u001b[0m in \u001b[0;36m_read\u001b[0;34m(filepath_or_buffer, kwds)\u001b[0m\n\u001b[1;32m    618\u001b[0m \u001b[0;34m\u001b[0m\u001b[0m\n\u001b[1;32m    619\u001b[0m     \u001b[0;31m# Create the parser.\u001b[0m\u001b[0;34m\u001b[0m\u001b[0;34m\u001b[0m\u001b[0m\n\u001b[0;32m--> 620\u001b[0;31m     \u001b[0mparser\u001b[0m \u001b[0;34m=\u001b[0m \u001b[0mTextFileReader\u001b[0m\u001b[0;34m(\u001b[0m\u001b[0mfilepath_or_buffer\u001b[0m\u001b[0;34m,\u001b[0m \u001b[0;34m**\u001b[0m\u001b[0mkwds\u001b[0m\u001b[0;34m)\u001b[0m\u001b[0;34m\u001b[0m\u001b[0;34m\u001b[0m\u001b[0m\n\u001b[0m\u001b[1;32m    621\u001b[0m \u001b[0;34m\u001b[0m\u001b[0m\n\u001b[1;32m    622\u001b[0m     \u001b[0;32mif\u001b[0m \u001b[0mchunksize\u001b[0m \u001b[0;32mor\u001b[0m \u001b[0miterator\u001b[0m\u001b[0;34m:\u001b[0m\u001b[0;34m\u001b[0m\u001b[0;34m\u001b[0m\u001b[0m\n",
            "\u001b[0;32m/usr/local/lib/python3.10/dist-packages/pandas/io/parsers/readers.py\u001b[0m in \u001b[0;36m__init__\u001b[0;34m(self, f, engine, **kwds)\u001b[0m\n\u001b[1;32m   1618\u001b[0m \u001b[0;34m\u001b[0m\u001b[0m\n\u001b[1;32m   1619\u001b[0m         \u001b[0mself\u001b[0m\u001b[0;34m.\u001b[0m\u001b[0mhandles\u001b[0m\u001b[0;34m:\u001b[0m \u001b[0mIOHandles\u001b[0m \u001b[0;34m|\u001b[0m \u001b[0;32mNone\u001b[0m \u001b[0;34m=\u001b[0m \u001b[0;32mNone\u001b[0m\u001b[0;34m\u001b[0m\u001b[0;34m\u001b[0m\u001b[0m\n\u001b[0;32m-> 1620\u001b[0;31m         \u001b[0mself\u001b[0m\u001b[0;34m.\u001b[0m\u001b[0m_engine\u001b[0m \u001b[0;34m=\u001b[0m \u001b[0mself\u001b[0m\u001b[0;34m.\u001b[0m\u001b[0m_make_engine\u001b[0m\u001b[0;34m(\u001b[0m\u001b[0mf\u001b[0m\u001b[0;34m,\u001b[0m \u001b[0mself\u001b[0m\u001b[0;34m.\u001b[0m\u001b[0mengine\u001b[0m\u001b[0;34m)\u001b[0m\u001b[0;34m\u001b[0m\u001b[0;34m\u001b[0m\u001b[0m\n\u001b[0m\u001b[1;32m   1621\u001b[0m \u001b[0;34m\u001b[0m\u001b[0m\n\u001b[1;32m   1622\u001b[0m     \u001b[0;32mdef\u001b[0m \u001b[0mclose\u001b[0m\u001b[0;34m(\u001b[0m\u001b[0mself\u001b[0m\u001b[0;34m)\u001b[0m \u001b[0;34m->\u001b[0m \u001b[0;32mNone\u001b[0m\u001b[0;34m:\u001b[0m\u001b[0;34m\u001b[0m\u001b[0;34m\u001b[0m\u001b[0m\n",
            "\u001b[0;32m/usr/local/lib/python3.10/dist-packages/pandas/io/parsers/readers.py\u001b[0m in \u001b[0;36m_make_engine\u001b[0;34m(self, f, engine)\u001b[0m\n\u001b[1;32m   1878\u001b[0m                 \u001b[0;32mif\u001b[0m \u001b[0;34m\"b\"\u001b[0m \u001b[0;32mnot\u001b[0m \u001b[0;32min\u001b[0m \u001b[0mmode\u001b[0m\u001b[0;34m:\u001b[0m\u001b[0;34m\u001b[0m\u001b[0;34m\u001b[0m\u001b[0m\n\u001b[1;32m   1879\u001b[0m                     \u001b[0mmode\u001b[0m \u001b[0;34m+=\u001b[0m \u001b[0;34m\"b\"\u001b[0m\u001b[0;34m\u001b[0m\u001b[0;34m\u001b[0m\u001b[0m\n\u001b[0;32m-> 1880\u001b[0;31m             self.handles = get_handle(\n\u001b[0m\u001b[1;32m   1881\u001b[0m                 \u001b[0mf\u001b[0m\u001b[0;34m,\u001b[0m\u001b[0;34m\u001b[0m\u001b[0;34m\u001b[0m\u001b[0m\n\u001b[1;32m   1882\u001b[0m                 \u001b[0mmode\u001b[0m\u001b[0;34m,\u001b[0m\u001b[0;34m\u001b[0m\u001b[0;34m\u001b[0m\u001b[0m\n",
            "\u001b[0;32m/usr/local/lib/python3.10/dist-packages/pandas/io/common.py\u001b[0m in \u001b[0;36mget_handle\u001b[0;34m(path_or_buf, mode, encoding, compression, memory_map, is_text, errors, storage_options)\u001b[0m\n\u001b[1;32m    871\u001b[0m         \u001b[0;32mif\u001b[0m \u001b[0mioargs\u001b[0m\u001b[0;34m.\u001b[0m\u001b[0mencoding\u001b[0m \u001b[0;32mand\u001b[0m \u001b[0;34m\"b\"\u001b[0m \u001b[0;32mnot\u001b[0m \u001b[0;32min\u001b[0m \u001b[0mioargs\u001b[0m\u001b[0;34m.\u001b[0m\u001b[0mmode\u001b[0m\u001b[0;34m:\u001b[0m\u001b[0;34m\u001b[0m\u001b[0;34m\u001b[0m\u001b[0m\n\u001b[1;32m    872\u001b[0m             \u001b[0;31m# Encoding\u001b[0m\u001b[0;34m\u001b[0m\u001b[0;34m\u001b[0m\u001b[0m\n\u001b[0;32m--> 873\u001b[0;31m             handle = open(\n\u001b[0m\u001b[1;32m    874\u001b[0m                 \u001b[0mhandle\u001b[0m\u001b[0;34m,\u001b[0m\u001b[0;34m\u001b[0m\u001b[0;34m\u001b[0m\u001b[0m\n\u001b[1;32m    875\u001b[0m                 \u001b[0mioargs\u001b[0m\u001b[0;34m.\u001b[0m\u001b[0mmode\u001b[0m\u001b[0;34m,\u001b[0m\u001b[0;34m\u001b[0m\u001b[0;34m\u001b[0m\u001b[0m\n",
            "\u001b[0;31mFileNotFoundError\u001b[0m: [Errno 2] No such file or directory: 'dataset/Production_volume.csv'"
          ]
        }
      ],
      "source": [
        "production_data = pd.read_csv(\"https://raw.githubusercontent.com/kazeulo/Project_197/main/dataset/Production_volume.csv\")\n",
        "area_data = pd.read_csv(\"https://raw.githubusercontent.com/kazeulo/Project_197/main/dataset/Area_harvested.csv\")"
      ]
    },
    {
      "cell_type": "code",
      "execution_count": null,
      "id": "cb5ea2ea-3cc3-4f33-9b74-92305dbee1ce",
      "metadata": {
        "id": "cb5ea2ea-3cc3-4f33-9b74-92305dbee1ce"
      },
      "outputs": [],
      "source": [
        "production_data.head(5)"
      ]
    },
    {
      "cell_type": "code",
      "execution_count": null,
      "id": "30d64966-0327-49ca-a3a0-5106185e0fb2",
      "metadata": {
        "id": "30d64966-0327-49ca-a3a0-5106185e0fb2"
      },
      "outputs": [],
      "source": [
        "area_data.head(5)"
      ]
    },
    {
      "cell_type": "markdown",
      "id": "aec36864-9b33-4f1d-86d4-1252fc7be2f4",
      "metadata": {
        "id": "aec36864-9b33-4f1d-86d4-1252fc7be2f4"
      },
      "source": [
        "<h4>Transforming and merging data</h4>"
      ]
    },
    {
      "cell_type": "code",
      "execution_count": null,
      "id": "a39e7433-de30-4ee9-81fa-0cc697da7c21",
      "metadata": {
        "id": "a39e7433-de30-4ee9-81fa-0cc697da7c21"
      },
      "outputs": [],
      "source": [
        "production_data = pd.melt(production_data,\n",
        "                        id_vars=['Croptype', 'Province'],\n",
        "                        var_name='Quarter and Year',\n",
        "                        value_name='Production')\n",
        "\n",
        "area_data = pd.melt(area_data,\n",
        "                        id_vars=['Croptype', 'Province'],\n",
        "                        var_name='Quarter and Year',\n",
        "                        value_name='Area')\n",
        "\n",
        "# fill values for croptype\n",
        "production_data['Croptype'] = production_data['Croptype'].ffill()\n",
        "area_data['Croptype'] = area_data['Croptype'].ffill()\n",
        "\n",
        "dataset = pd.merge(production_data, area_data, on=['Croptype', 'Province', 'Quarter and Year'], how='left')"
      ]
    },
    {
      "cell_type": "code",
      "execution_count": null,
      "id": "9f9e34ed-aa8a-4600-ae26-924b16b081eb",
      "metadata": {
        "id": "9f9e34ed-aa8a-4600-ae26-924b16b081eb"
      },
      "outputs": [],
      "source": [
        "dataset.head(5)"
      ]
    },
    {
      "cell_type": "code",
      "execution_count": null,
      "id": "962f1d04-a5da-4c2f-8490-3afa157eb147",
      "metadata": {
        "id": "962f1d04-a5da-4c2f-8490-3afa157eb147"
      },
      "outputs": [],
      "source": [
        "# split year and quarter into separte columns\n",
        "dataset['Year'] = dataset['Quarter and Year'].apply(lambda x: int(x.split(' ')[-1]))\n",
        "dataset['Quarter'] = dataset['Quarter and Year'].apply(lambda x: int(x.split(' ')[1][-1]))\n",
        "\n",
        "# drop 'Quarter and Year' column\n",
        "dataset.drop(columns=['Quarter and Year'], inplace=True)\n",
        "\n",
        "# reorder columns\n",
        "dataset = dataset[['Croptype', 'Province', 'Quarter', 'Year', 'Area', 'Production']]"
      ]
    },
    {
      "cell_type": "code",
      "execution_count": null,
      "id": "6807d794-937a-446f-ba9b-26274b07dd14",
      "metadata": {
        "id": "6807d794-937a-446f-ba9b-26274b07dd14"
      },
      "outputs": [],
      "source": [
        "dataset.head(5)"
      ]
    },
    {
      "cell_type": "code",
      "execution_count": null,
      "id": "743ac5df-6048-4603-a7d8-5c9024a9c584",
      "metadata": {
        "id": "743ac5df-6048-4603-a7d8-5c9024a9c584"
      },
      "outputs": [],
      "source": [
        "rows, columns = dataset.shape\n",
        "\n",
        "# Print the number of rows\n",
        "print(\"Number of rows:\", rows)"
      ]
    },
    {
      "cell_type": "markdown",
      "id": "6ad31406-2432-44fb-ab0a-a74536184035",
      "metadata": {
        "id": "6ad31406-2432-44fb-ab0a-a74536184035"
      },
      "source": [
        "<h4>Create Date column</h4>"
      ]
    },
    {
      "cell_type": "code",
      "execution_count": null,
      "id": "105f28c1-3295-468b-9f9f-43c7f3b614fc",
      "metadata": {
        "id": "105f28c1-3295-468b-9f9f-43c7f3b614fc"
      },
      "outputs": [],
      "source": [
        "quarter_to_month = {1: 1, 2: 4, 3: 7, 4: 10}\n",
        "\n",
        "# Create the 'Date' column\n",
        "dataset['Date'] = pd.to_datetime(dataset['Year'].astype(str) +\n",
        "                                  dataset['Quarter'].map(quarter_to_month).astype(str) + '01',\n",
        "                                  format='%Y%m%d')\n",
        "\n",
        "# Reorder columns so 'Date' is the leftmost column\n",
        "dataset = dataset[['Date'] + [col for col in dataset.columns if col != 'Date']]"
      ]
    },
    {
      "cell_type": "code",
      "execution_count": null,
      "id": "31bf36c5-5e45-4266-9c13-0854350337a1",
      "metadata": {
        "id": "31bf36c5-5e45-4266-9c13-0854350337a1"
      },
      "outputs": [],
      "source": [
        "dataset.head(5)"
      ]
    },
    {
      "cell_type": "markdown",
      "id": "a9420665-3da7-40af-83bb-0e61e748668e",
      "metadata": {
        "id": "a9420665-3da7-40af-83bb-0e61e748668e"
      },
      "source": [
        "Since Guimaras was included in Iloilo prior to 1994, we'll drop the data for those years to ensure accuracy."
      ]
    },
    {
      "cell_type": "code",
      "execution_count": null,
      "id": "b6c4bebb-44de-4f5f-8f38-da3e277a71c6",
      "metadata": {
        "id": "b6c4bebb-44de-4f5f-8f38-da3e277a71c6"
      },
      "outputs": [],
      "source": [
        "dataset = dataset[~((dataset['Province'].isin(['Guimaras', 'Iloilo'])) & (dataset['Year'] <= 1994))]"
      ]
    },
    {
      "cell_type": "code",
      "execution_count": null,
      "id": "771ba318-6e44-4126-8bb4-da016a048d6b",
      "metadata": {
        "id": "771ba318-6e44-4126-8bb4-da016a048d6b"
      },
      "outputs": [],
      "source": [
        "dataset.hist(figsize = (10, 10))"
      ]
    },
    {
      "cell_type": "code",
      "execution_count": null,
      "id": "091d20ff-e237-43ef-836e-ecc8cff03a1e",
      "metadata": {
        "id": "091d20ff-e237-43ef-836e-ecc8cff03a1e"
      },
      "outputs": [],
      "source": [
        "# descriptive statistics\n",
        "desc_stats = dataset.describe()\n",
        "\n",
        "print(\"Descriptive Statistics:\")\n",
        "desc_stats"
      ]
    },
    {
      "cell_type": "code",
      "execution_count": null,
      "id": "937b44a5-05a0-4c87-94db-d63502d48426",
      "metadata": {
        "id": "937b44a5-05a0-4c87-94db-d63502d48426"
      },
      "outputs": [],
      "source": [
        "# frequency distribution of categorical variables\n",
        "print(dataset['Croptype'].value_counts())\n",
        "print(dataset['Province'].value_counts())"
      ]
    },
    {
      "cell_type": "code",
      "execution_count": null,
      "id": "26a7f7a4-3475-47ac-9f91-0a327b74b688",
      "metadata": {
        "id": "26a7f7a4-3475-47ac-9f91-0a327b74b688"
      },
      "outputs": [],
      "source": [
        "# check for zero values in the entire DataFrame\n",
        "print((dataset == 0).sum())"
      ]
    },
    {
      "cell_type": "markdown",
      "id": "a8628839-47dd-423b-913f-1dea93b000a0",
      "metadata": {
        "id": "a8628839-47dd-423b-913f-1dea93b000a0"
      },
      "source": [
        "Handling zero values. Using median since it is less sensitive to outliers."
      ]
    },
    {
      "cell_type": "code",
      "execution_count": null,
      "id": "4eef3ba7-e7cc-40cf-b8e6-81e4529fb701",
      "metadata": {
        "id": "4eef3ba7-e7cc-40cf-b8e6-81e4529fb701"
      },
      "outputs": [],
      "source": [
        "# replace 0 with NaN\n",
        "dataset.replace(0, np.nan, inplace=True)\n",
        "\n",
        "# imputer = SimpleImputer(strategy='median')\n",
        "# dataset[['Production', 'Area']] = imputer.fit_transform(dataset[['Production', 'Area']])"
      ]
    },
    {
      "cell_type": "code",
      "execution_count": null,
      "id": "9f97cd87-5c17-4fe6-9a76-487e3b8d89df",
      "metadata": {
        "id": "9f97cd87-5c17-4fe6-9a76-487e3b8d89df"
      },
      "outputs": [],
      "source": [
        "# drop rows that contains Nan\n",
        "dataset = dataset.dropna()"
      ]
    },
    {
      "cell_type": "code",
      "execution_count": null,
      "id": "c2ed5e4a-1db0-4c93-a084-ca428f2c2a9a",
      "metadata": {
        "id": "c2ed5e4a-1db0-4c93-a084-ca428f2c2a9a"
      },
      "outputs": [],
      "source": [
        "rows, columns = dataset.shape\n",
        "\n",
        "# Print the number of rows\n",
        "print(\"Number of rows:\", rows)"
      ]
    },
    {
      "cell_type": "markdown",
      "id": "47fbd7e7-8c7d-4799-97e4-32094153761e",
      "metadata": {
        "id": "47fbd7e7-8c7d-4799-97e4-32094153761e"
      },
      "source": [
        "<b>Remove outliers.</b>"
      ]
    },
    {
      "cell_type": "code",
      "execution_count": null,
      "id": "6413bbc4-a697-4830-806e-120186d8b958",
      "metadata": {
        "id": "6413bbc4-a697-4830-806e-120186d8b958"
      },
      "outputs": [],
      "source": [
        "Q1 = dataset['Production'].quantile(0.25)\n",
        "Q3 = dataset['Production'].quantile(0.75)\n",
        "IQR = Q3 - Q1"
      ]
    },
    {
      "cell_type": "code",
      "execution_count": null,
      "id": "0c51c1a1-189a-420c-b24f-20791649750f",
      "metadata": {
        "id": "0c51c1a1-189a-420c-b24f-20791649750f"
      },
      "outputs": [],
      "source": [
        "dataset = dataset[(dataset['Production'] >= (Q1 - 1.5 * IQR)) & (dataset['Production'] <= (Q3 + 1.5 * IQR))]"
      ]
    },
    {
      "cell_type": "code",
      "execution_count": null,
      "id": "8a8c4a70-cec8-4d71-9f00-f64f8d6fc9ca",
      "metadata": {
        "id": "8a8c4a70-cec8-4d71-9f00-f64f8d6fc9ca"
      },
      "outputs": [],
      "source": [
        "rows, columns = dataset.shape\n",
        "\n",
        "# Print the number of rows\n",
        "print(\"Number of rows:\", rows)"
      ]
    },
    {
      "cell_type": "code",
      "execution_count": null,
      "id": "392fadc9-0abc-477f-8cb8-9943fbcedce0",
      "metadata": {
        "id": "392fadc9-0abc-477f-8cb8-9943fbcedce0"
      },
      "outputs": [],
      "source": [
        "# visualizing the trend of 'Production' over time\n",
        "plt.figure(figsize=(10, 4))\n",
        "dataset['Production'].plot(title=\"Volume of Production (tons) over Time\", linewidth=2)\n",
        "plt.xlabel('Date')\n",
        "plt.ylabel('Production')\n",
        "plt.grid(True)\n",
        "plt.show()"
      ]
    },
    {
      "cell_type": "code",
      "execution_count": null,
      "id": "2d1dccaa-16da-4c2d-917c-90eba50e9782",
      "metadata": {
        "id": "2d1dccaa-16da-4c2d-917c-90eba50e9782"
      },
      "outputs": [],
      "source": [
        "# plot Area and Production over time (Year)\n",
        "plt.figure(figsize=(11, 6))\n",
        "\n",
        "# plot Area over time\n",
        "plt.subplot(2, 1, 1)\n",
        "sns.lineplot(data=dataset, x='Year', y='Area', hue='Province', marker='o')\n",
        "plt.title('Area Over Time by Province')\n",
        "plt.xlabel('Year')\n",
        "plt.ylabel('Area')\n",
        "\n",
        "# plot Production over time\n",
        "plt.subplot(2, 1, 2)\n",
        "sns.lineplot(data=dataset, x='Year', y='Production', hue='Province', marker='o')\n",
        "plt.title('Production Over Time by Province')\n",
        "plt.xlabel('Year')\n",
        "plt.ylabel('Production')\n",
        "\n",
        "plt.tight_layout()\n",
        "plt.show()"
      ]
    },
    {
      "cell_type": "code",
      "execution_count": null,
      "id": "df74a6c9-674f-46fa-97a9-93a40a30b1f1",
      "metadata": {
        "id": "df74a6c9-674f-46fa-97a9-93a40a30b1f1"
      },
      "outputs": [],
      "source": [
        "# aggregate data by Year and Quarter to see seasonal patterns\n",
        "quarterly_data = dataset.groupby(['Year', 'Quarter'])[['Area', 'Production']].sum().reset_index()\n",
        "\n",
        "# plot Area and Production for each quarter across the years\n",
        "plt.figure(figsize=(11, 6))\n",
        "\n",
        "# plot Area by Quarter\n",
        "plt.subplot(2, 1, 1)\n",
        "sns.lineplot(data=quarterly_data, x='Year', y='Area', hue='Quarter', marker='o')\n",
        "plt.title('Area by Quarter Across Years')\n",
        "plt.xlabel('Year')\n",
        "plt.ylabel('Area')\n",
        "\n",
        "# plot Production by Quarter\n",
        "plt.subplot(2, 1, 2)\n",
        "sns.lineplot(data=quarterly_data, x='Year', y='Production', hue='Quarter', marker='o')\n",
        "plt.title('Production by Quarter Across Years')\n",
        "plt.xlabel('Year')\n",
        "plt.ylabel('Production')\n",
        "\n",
        "plt.tight_layout()\n",
        "plt.show()"
      ]
    },
    {
      "cell_type": "code",
      "execution_count": null,
      "id": "aaf9b499-d3bd-4d1b-877a-d0a63034f6e0",
      "metadata": {
        "id": "aaf9b499-d3bd-4d1b-877a-d0a63034f6e0"
      },
      "outputs": [],
      "source": [
        "#\\ visualizing production across Provinces with Croptype\n",
        "plt.figure(figsize=(10, 4))\n",
        "\n",
        "sns.barplot(x='Province', y='Production', hue='Croptype', data=dataset)\n",
        "\n",
        "# adding titles and labels\n",
        "plt.title('Production by Province and Croptype')\n",
        "plt.xlabel('Province')\n",
        "plt.ylabel('Production (tons)')\n",
        "\n",
        "# Show the plot\n",
        "plt.tight_layout()\n",
        "plt.show()"
      ]
    },
    {
      "cell_type": "code",
      "execution_count": null,
      "id": "6210794d-0179-45a8-893c-171786400fc8",
      "metadata": {
        "id": "6210794d-0179-45a8-893c-171786400fc8"
      },
      "outputs": [],
      "source": [
        "# calculate the correlation between Area and Production\n",
        "corr = dataset[['Area', 'Production', 'Quarter', 'Year']].corr()\n",
        "print(corr)\n",
        "\n",
        "# visualize correlation matrix\n",
        "plt.figure(figsize=(6, 4))\n",
        "sns.heatmap(corr, annot=True, cmap='coolwarm', fmt='.2f')\n",
        "plt.title('Correlation Matrix between Area, Production, Quarter, and Year')\n",
        "plt.show()"
      ]
    },
    {
      "cell_type": "code",
      "execution_count": null,
      "id": "dc6e3208-fd4a-4732-8764-3557e0afb101",
      "metadata": {
        "id": "dc6e3208-fd4a-4732-8764-3557e0afb101"
      },
      "outputs": [],
      "source": [
        "# Boxplot for Area and Production\n",
        "plt.figure(figsize=(14, 8))\n",
        "\n",
        "# Boxplot for Area\n",
        "plt.subplot(2, 2, 1)\n",
        "sns.boxplot(x='Croptype', y='Production', data=dataset)\n",
        "plt.title('Boxplot of Production by Croptype')\n",
        "\n",
        "# Boxplot for Production\n",
        "plt.subplot(2, 2, 2)\n",
        "sns.boxplot(x='Province', y='Production', data=dataset)\n",
        "plt.title('Boxplot of Production by Province')\n",
        "\n",
        "plt.tight_layout()\n",
        "plt.show()"
      ]
    },
    {
      "cell_type": "code",
      "execution_count": null,
      "id": "9ceb65f0-a53b-492b-8fc1-4527778280d6",
      "metadata": {
        "id": "9ceb65f0-a53b-492b-8fc1-4527778280d6"
      },
      "outputs": [],
      "source": [
        "aggregated_data = dataset.groupby(['Croptype', 'Province', 'Quarter', 'Year']).agg(\n",
        "    total_production=('Production', 'sum'),\n",
        "    total_area=('Area', 'sum'),\n",
        ").reset_index()"
      ]
    },
    {
      "cell_type": "markdown",
      "id": "a1910812-f9fd-4bb9-9a99-e336570565aa",
      "metadata": {
        "id": "a1910812-f9fd-4bb9-9a99-e336570565aa"
      },
      "source": [
        "<h4> Feature Engineering</h4>"
      ]
    },
    {
      "cell_type": "code",
      "execution_count": null,
      "id": "6d2b9737-dc8d-4d70-ac2e-f57a18ea29ab",
      "metadata": {
        "id": "6d2b9737-dc8d-4d70-ac2e-f57a18ea29ab"
      },
      "outputs": [],
      "source": [
        "dataset = dataset.sort_values(by='Date', ascending=True)"
      ]
    },
    {
      "cell_type": "code",
      "execution_count": null,
      "id": "4aa982d8-95de-449e-b78f-58db159d1c4c",
      "metadata": {
        "id": "4aa982d8-95de-449e-b78f-58db159d1c4c"
      },
      "outputs": [],
      "source": [
        "# # Seasonal features\n",
        "# dataset['Quarter_sin'] = np.sin(2 * np.pi * dataset['Quarter'] / 4)\n",
        "# dataset['Quarter_cos'] = np.cos(2 * np.pi * dataset['Quarter'] / 4)"
      ]
    },
    {
      "cell_type": "code",
      "execution_count": null,
      "id": "dac9585c-2c85-4022-88ad-07c73fecd9cf",
      "metadata": {
        "id": "dac9585c-2c85-4022-88ad-07c73fecd9cf"
      },
      "outputs": [],
      "source": [
        "# # Create lag features\n",
        "# dataset['Lag_1'] = dataset.groupby(['Province', 'Croptype', 'Quarter'])['Production'].shift(1)\n",
        "# dataset['Lag_2'] = dataset.groupby(['Province', 'Croptype', 'Quarter'])['Production'].shift(2)\n",
        "# dataset['Lag_3'] = dataset.groupby(['Province', 'Croptype', 'Quarter'])['Production'].shift(3)\n",
        "# dataset['Lag_4'] = dataset.groupby(['Province', 'Croptype', 'Quarter'])['Production'].shift(4)"
      ]
    },
    {
      "cell_type": "code",
      "execution_count": null,
      "id": "9d27214f-16f9-4a2e-8a39-797d55f49d88",
      "metadata": {
        "id": "9d27214f-16f9-4a2e-8a39-797d55f49d88"
      },
      "outputs": [],
      "source": [
        "# # Create rolling mean features\n",
        "# dataset['Rolling_Mean_1'] = dataset['Production'].rolling(window=2).mean()\n",
        "# dataset['Rolling_Mean_4'] = dataset['Production'].rolling(window=4).mean()\n",
        "# dataset['Rolling_Mean_2'] = dataset['Production'].rolling(window=2).mean()"
      ]
    },
    {
      "cell_type": "code",
      "execution_count": null,
      "id": "8b027e3c-c4e0-4a81-a009-cea5b72c09c1",
      "metadata": {
        "id": "8b027e3c-c4e0-4a81-a009-cea5b72c09c1"
      },
      "outputs": [],
      "source": [
        "dataset.head(5)"
      ]
    },
    {
      "cell_type": "code",
      "execution_count": null,
      "id": "a2b3a5b8-245b-4def-a223-966cdd21e036",
      "metadata": {
        "id": "a2b3a5b8-245b-4def-a223-966cdd21e036"
      },
      "outputs": [],
      "source": [
        "# encoder = LabelEncoder()\n",
        "\n",
        "# # Label encode Croptype and Province\n",
        "# dataset['Croptype'] = encoder.fit_transform(dataset['Croptype'])\n",
        "# dataset['Province'] = encoder.fit_transform(dataset['Province'])\n",
        "\n",
        "encoding = OneHotEncoder(sparse_output=False).set_output(transform='pandas')\n",
        "encode_data = encoding.fit_transform(dataset[['Croptype', 'Province']])\n",
        "\n",
        "dataset = pd.concat([dataset.reset_index(drop=True), encode_data.reset_index(drop=True)], axis=1)\n",
        "dataset = dataset.drop(columns=['Croptype', 'Province'])"
      ]
    },
    {
      "cell_type": "code",
      "execution_count": null,
      "id": "4924ad87-147b-450d-a025-5dea48298600",
      "metadata": {
        "id": "4924ad87-147b-450d-a025-5dea48298600"
      },
      "outputs": [],
      "source": [
        "dataset['Log_Production'] = np.log(dataset['Production'] + 1)"
      ]
    },
    {
      "cell_type": "code",
      "execution_count": null,
      "id": "643f7837-355a-4b76-b0c6-dce4a1b20dc0",
      "metadata": {
        "id": "643f7837-355a-4b76-b0c6-dce4a1b20dc0"
      },
      "outputs": [],
      "source": [
        "dataset.head(5)"
      ]
    },
    {
      "cell_type": "markdown",
      "id": "e0e63a2d-77fd-46fa-8266-48f9e3fb96f1",
      "metadata": {
        "id": "e0e63a2d-77fd-46fa-8266-48f9e3fb96f1"
      },
      "source": [
        "<h4>Split train/test</h4>"
      ]
    },
    {
      "cell_type": "code",
      "execution_count": null,
      "id": "e3cd81e1-16af-4be0-b208-c5552c342c9f",
      "metadata": {
        "id": "e3cd81e1-16af-4be0-b208-c5552c342c9f"
      },
      "outputs": [],
      "source": [
        "# initialize the scaler\n",
        "scaler = StandardScaler()\n",
        "\n",
        "X = dataset.drop(['Production', 'Log_Production', 'Date'], axis=1)\n",
        "y = dataset['Log_Production']\n",
        "\n",
        "# pplit into train and test (70% train, 30% test)\n",
        "train_size = int(0.7 * len(dataset))\n",
        "X_train, X_test, y_train, y_test = train_test_split(X, y, test_size=0.3, shuffle=False)\n",
        "\n",
        "# fit the scaler on the training data and transform X_train\n",
        "X_train_scaled = scaler.fit_transform(X_train)\n",
        "\n",
        "# transform X_test using the same scaler (do not fit again)\n",
        "X_test_scaled = scaler.transform(X_test)"
      ]
    },
    {
      "cell_type": "code",
      "execution_count": null,
      "id": "d4cdb2c2-41a8-4e0c-93ec-a6d0d2d3a1e0",
      "metadata": {
        "id": "d4cdb2c2-41a8-4e0c-93ec-a6d0d2d3a1e0"
      },
      "outputs": [],
      "source": [
        "# Plotting the entire production data\n",
        "plt.figure(figsize=(10, 6))\n",
        "\n",
        "# Plot training data (first 70%)\n",
        "plt.plot(dataset['Date'][:train_size], dataset['Production'][:train_size], label='Training Data', color='blue')\n",
        "\n",
        "# Plot testing data (last 30%)\n",
        "plt.plot(dataset['Date'][train_size:], dataset['Production'][train_size:], label='Testing Data', color='red')\n",
        "\n",
        "# Adding labels and title\n",
        "plt.xlabel('Date')\n",
        "plt.ylabel('Production')\n",
        "plt.title('Time Series Data Split: Training vs Testing')\n",
        "plt.legend()\n",
        "plt.xticks(rotation=45)  # Rotate x-axis labels for readability\n",
        "\n",
        "# Show the plot\n",
        "plt.tight_layout()\n",
        "plt.show()"
      ]
    },
    {
      "cell_type": "markdown",
      "id": "4673c2c2-53b1-4223-9987-fd27a9c285ea",
      "metadata": {
        "id": "4673c2c2-53b1-4223-9987-fd27a9c285ea"
      },
      "source": [
        "<hr>\n",
        "<h2> Implementing Machine Learning Algorithms</h2>\n",
        "<hr>"
      ]
    },
    {
      "cell_type": "markdown",
      "id": "b986c185-9504-4055-8fc2-88fd23f17a44",
      "metadata": {
        "id": "b986c185-9504-4055-8fc2-88fd23f17a44"
      },
      "source": [
        "<h4>Extreme Gradient Boosting (XGboost)</h4>"
      ]
    },
    {
      "cell_type": "code",
      "execution_count": null,
      "id": "317ca0e5-31d9-4a87-bb2b-321f2f14f87c",
      "metadata": {
        "id": "317ca0e5-31d9-4a87-bb2b-321f2f14f87c"
      },
      "outputs": [],
      "source": [
        "# perform gradientsearch\n",
        "\n",
        "param_grid = {\n",
        "     'learning_rate': [0.01, 0.1, 0.2],\n",
        "     'max_depth': [3, 4, 5],\n",
        "     'n_estimators': [100, 200, 500],\n",
        "     'subsample': [0.8, 1.0],\n",
        "     'reg_alpha': [0.01, 0.1, 0.2],\n",
        "     'reg_lambda': [0.01, 0.1, 0.2]\n",
        "}\n",
        "\n",
        "grid_search = GridSearchCV(estimator=xgb.XGBRegressor(), param_grid=param_grid, scoring='neg_mean_squared_error', cv=3, n_jobs=-1)\n",
        "grid_search.fit(X_train_scaled, y_train)\n",
        "\n",
        "# Best parameters found by GridSearchCV\n",
        "print(grid_search.best_params_)\n",
        "\n",
        "# Use the best model\n",
        "model_xgb = grid_search.best_estimator_"
      ]
    },
    {
      "cell_type": "code",
      "execution_count": null,
      "id": "e32b0b3c-a813-490a-98f5-651c7ab8b0ac",
      "metadata": {
        "id": "e32b0b3c-a813-490a-98f5-651c7ab8b0ac"
      },
      "outputs": [],
      "source": [
        "# make predictions\n",
        "y_pred = model_xgb.predict(X_test_scaled)"
      ]
    },
    {
      "cell_type": "code",
      "execution_count": null,
      "id": "4580e1fe-a5e4-42f1-9037-6ed08a8b194c",
      "metadata": {
        "id": "4580e1fe-a5e4-42f1-9037-6ed08a8b194c"
      },
      "outputs": [],
      "source": [
        "y_pred_original = np.exp(y_pred) - 1\n",
        "y_test_original = np.exp(y_test) - 1"
      ]
    },
    {
      "cell_type": "code",
      "execution_count": null,
      "id": "6cae5e0d-1cc8-49ec-b9b3-01210b73dedc",
      "metadata": {
        "id": "6cae5e0d-1cc8-49ec-b9b3-01210b73dedc"
      },
      "outputs": [],
      "source": [
        "results = pd.DataFrame({'Actual': y_test_original, 'Predicted': y_pred_original})\n",
        "results.head(5)"
      ]
    },
    {
      "cell_type": "code",
      "execution_count": null,
      "id": "ebdb6588-9df7-4bb5-8f12-9886d04401f1",
      "metadata": {
        "id": "ebdb6588-9df7-4bb5-8f12-9886d04401f1"
      },
      "outputs": [],
      "source": [
        "# Calculate performance metrics on the test data\n",
        "mae_train = mean_absolute_error(y_test_original, y_pred_original)\n",
        "mse_train = mean_squared_error(y_test_original, y_pred_original)\n",
        "r2_train = r2_score(y_test_original, y_pred_original)\n",
        "mape = np.mean(np.abs((y_test_original - y_pred_original) / y_test_original) * 100)\n",
        "\n",
        "# Create a DataFrame to store the results\n",
        "performance_xgb = pd.DataFrame({\n",
        "    'Model': ['MAE', 'MSE', 'MAPE', 'R²'],\n",
        "    'XG Boost': [mae_train, mse_train, mape, r2_train]\n",
        "})\n",
        "\n",
        "# Transpose to make the performance horizontal\n",
        "performance_xgb = performance_xgb.set_index('Model').T\n",
        "\n",
        "# Display the DataFrame\n",
        "performance_xgb"
      ]
    },
    {
      "cell_type": "code",
      "execution_count": null,
      "id": "702941fe-662e-43dc-8f9a-be96d043496c",
      "metadata": {
        "id": "702941fe-662e-43dc-8f9a-be96d043496c"
      },
      "outputs": [],
      "source": [
        "# import matplotlib.pyplot as plt\n",
        "\n",
        "# # Plot feature importance\n",
        "# xgb.plot_importance(model_xgb)\n",
        "# plt.show()"
      ]
    },
    {
      "cell_type": "code",
      "execution_count": null,
      "id": "6212a280-e3cd-40bc-9d05-98b1aacc976d",
      "metadata": {
        "scrolled": true,
        "id": "6212a280-e3cd-40bc-9d05-98b1aacc976d"
      },
      "outputs": [],
      "source": [
        "# 6. Plot actual vs predicted values\n",
        "plt.figure(figsize=(10, 6))\n",
        "plt.plot(y_test_original.index, y_test_original, label='Actual', color='blue')\n",
        "plt.plot(y_test_original.index, y_pred_original, label='Predicted', color='red', linestyle='--')\n",
        "plt.xlabel('Index')\n",
        "plt.ylabel('Production')\n",
        "plt.legend()\n",
        "plt.title('Actual vs Predicted Production')\n",
        "plt.show()"
      ]
    },
    {
      "cell_type": "markdown",
      "id": "5629f003-a896-47f7-9a9a-350ab160f729",
      "metadata": {
        "id": "5629f003-a896-47f7-9a9a-350ab160f729"
      },
      "source": [
        "<h4>Random Forest Regression</h4>"
      ]
    },
    {
      "cell_type": "code",
      "execution_count": null,
      "id": "e553885b-f0b0-4ed5-b252-c1bc48e5018f",
      "metadata": {
        "id": "e553885b-f0b0-4ed5-b252-c1bc48e5018f"
      },
      "outputs": [],
      "source": [
        "# model_rf = RandomForestRegressor(n_estimators=1000, max_features=4, random_state=1)\n",
        "# model_rf.fit(X_train_scaled, y_train)"
      ]
    },
    {
      "cell_type": "code",
      "execution_count": null,
      "id": "a32674f9-d1d1-4e64-bbd3-61203040fa6d",
      "metadata": {
        "id": "a32674f9-d1d1-4e64-bbd3-61203040fa6d"
      },
      "outputs": [],
      "source": [
        "param_grid = {\n",
        "     'n_estimators': [100, 200, 500],\n",
        "     'max_depth': [3, 4, 5, 6],\n",
        "     'min_samples_split': [2, 5, 10],\n",
        "     'min_samples_leaf': [1, 2, 4],\n",
        "     'max_features': ['sqrt', 'log2', None, 0.5, 1.0],\n",
        "     'bootstrap': [True, False]\n",
        "}\n",
        "\n",
        "# Perform Grid Search with RandomForestRegressor\n",
        "grid_search_rf = GridSearchCV(estimator=RandomForestRegressor(), param_grid=param_grid, scoring='neg_mean_squared_error', cv=3, n_jobs=-1)\n",
        "grid_search_rf.fit(X_train_scaled, y_train)\n",
        "\n",
        "# Best parameters found by GridSearchCV\n",
        "print(grid_search_rf.best_params_)\n",
        "\n",
        "# Use the best model\n",
        "model_rf = grid_search_rf.best_estimator_"
      ]
    },
    {
      "cell_type": "code",
      "execution_count": null,
      "id": "5e73ffd7-17ba-4eed-ab2e-03df5a2d8f69",
      "metadata": {
        "id": "5e73ffd7-17ba-4eed-ab2e-03df5a2d8f69"
      },
      "outputs": [],
      "source": [
        "# make predictions\n",
        "y_pred = model_rf.predict(X_test_scaled)"
      ]
    },
    {
      "cell_type": "code",
      "execution_count": null,
      "id": "4c6cdf33-7370-4e50-b4f4-397c0a5d20b9",
      "metadata": {
        "id": "4c6cdf33-7370-4e50-b4f4-397c0a5d20b9"
      },
      "outputs": [],
      "source": [
        "y_pred_original = np.exp(y_pred) - 1\n",
        "y_test_original = np.exp(y_test) - 1"
      ]
    },
    {
      "cell_type": "code",
      "execution_count": null,
      "id": "dc55dbbf-0535-4c55-8509-755853249d1a",
      "metadata": {
        "id": "dc55dbbf-0535-4c55-8509-755853249d1a"
      },
      "outputs": [],
      "source": [
        "results = pd.DataFrame({'Actual': y_test_original, 'Predicted': y_pred_original})\n",
        "results.head(5)"
      ]
    },
    {
      "cell_type": "code",
      "execution_count": null,
      "id": "695e8e08-a8c4-44b9-b5a5-3ba7914bae48",
      "metadata": {
        "id": "695e8e08-a8c4-44b9-b5a5-3ba7914bae48"
      },
      "outputs": [],
      "source": [
        "# Calculate performance metrics on the test data\n",
        "mae_train = mean_absolute_error(y_test_original, y_pred_original)\n",
        "mse_train = mean_squared_error(y_test_original, y_pred_original)\n",
        "r2_train = r2_score(y_test_original, y_pred_original)\n",
        "mape = np.mean(np.abs((y_test_original - y_pred_original) / y_test_original) * 100)\n",
        "\n",
        "# Create a DataFrame to store the results\n",
        "performance_rf = pd.DataFrame({\n",
        "    'Model': ['MAE', 'MSE', 'MAPE', 'R²'],\n",
        "    'Random Forest': [mae_train, mse_train, mape, r2_train]\n",
        "})\n",
        "\n",
        "# Transpose to make the performance horizontal\n",
        "performance_rf = performance_rf.set_index('Model').T\n",
        "\n",
        "# Display the DataFrame\n",
        "performance_rf"
      ]
    },
    {
      "cell_type": "code",
      "execution_count": null,
      "id": "a3395948-f7db-4798-9f0c-829728e244c8",
      "metadata": {
        "id": "a3395948-f7db-4798-9f0c-829728e244c8"
      },
      "outputs": [],
      "source": [
        "# 6. Plot actual vs predicted values\n",
        "plt.figure(figsize=(10, 6))\n",
        "plt.plot(y_test_original.index, y_test_original, label='Actual', color='blue')\n",
        "plt.plot(y_test_original.index, y_pred_original, label='Predicted', color='red', linestyle='--')\n",
        "plt.xlabel('Index')\n",
        "plt.ylabel('Production')\n",
        "plt.legend()\n",
        "plt.title('Actual vs Predicted Production')\n",
        "plt.show()"
      ]
    },
    {
      "cell_type": "markdown",
      "id": "aea128e8-ebe2-483e-bcee-5b5c6ab73b16",
      "metadata": {
        "id": "aea128e8-ebe2-483e-bcee-5b5c6ab73b16"
      },
      "source": [
        "<h4>Linear Regression</h4>"
      ]
    },
    {
      "cell_type": "code",
      "execution_count": null,
      "id": "bca90f3b-dc32-4be5-a7bb-200f9284f01e",
      "metadata": {
        "id": "bca90f3b-dc32-4be5-a7bb-200f9284f01e"
      },
      "outputs": [],
      "source": [
        "# from sklearn.linear_model import Ridge\n",
        "\n",
        "# ridge = Ridge (alpha=1, solver='saga', tol=0.001)\n",
        "# ridge.fit(X_train_scaled, y_train)\n",
        "\n",
        "linear_model = LinearRegression()\n",
        "\n",
        "# Fit the model on the training data\n",
        "linear_model.fit(X_train_scaled, y_train)"
      ]
    },
    {
      "cell_type": "code",
      "execution_count": null,
      "id": "4d8ae6d4-95a6-4e21-b50a-758946ce2af8",
      "metadata": {
        "id": "4d8ae6d4-95a6-4e21-b50a-758946ce2af8"
      },
      "outputs": [],
      "source": [
        "# make predictions\n",
        "y_pred = linear_model.predict(X_test_scaled)\n",
        "# y_pred = ridge.predict(X_test_scaled)"
      ]
    },
    {
      "cell_type": "code",
      "execution_count": null,
      "id": "1fde494f-70c8-4487-9419-72478087da00",
      "metadata": {
        "id": "1fde494f-70c8-4487-9419-72478087da00"
      },
      "outputs": [],
      "source": [
        "y_pred_original = np.exp(y_pred) - 1\n",
        "y_test_original = np.exp(y_test) - 1"
      ]
    },
    {
      "cell_type": "code",
      "execution_count": null,
      "id": "377812bb-c62e-4dd6-b705-4094e9d937da",
      "metadata": {
        "id": "377812bb-c62e-4dd6-b705-4094e9d937da"
      },
      "outputs": [],
      "source": [
        "results = pd.DataFrame({'Actual': y_test_original, 'Predicted': y_pred_original})\n",
        "results.head(5)"
      ]
    },
    {
      "cell_type": "code",
      "execution_count": null,
      "id": "63f43381-b991-4f6d-be24-ba99f7cfb3c0",
      "metadata": {
        "id": "63f43381-b991-4f6d-be24-ba99f7cfb3c0"
      },
      "outputs": [],
      "source": [
        "# Calculate performance metrics on the test data\n",
        "mae_train = mean_absolute_error(y_test_original, y_pred_original)\n",
        "mse_train = mean_squared_error(y_test_original, y_pred_original)\n",
        "r2_train = r2_score(y_test_original, y_pred_original)\n",
        "mape = np.mean(np.abs((y_test_original - y_pred_original) / y_test_original) * 100)\n",
        "\n",
        "# Create a DataFrame to store the results\n",
        "performance_lr = pd.DataFrame({\n",
        "    'Model': ['MAE', 'MSE', 'MAPE', 'R²'],\n",
        "    'Linear Regression': [mae_train, mse_train, mape, r2_train]\n",
        "})\n",
        "\n",
        "# Transpose to make the performance horizontal\n",
        "performance_lr = performance_lr.set_index('Model').T\n",
        "\n",
        "# Display the DataFrame\n",
        "performance_lr"
      ]
    },
    {
      "cell_type": "code",
      "execution_count": null,
      "id": "f10d25b7-4790-425e-9614-f55a22fc8faa",
      "metadata": {
        "id": "f10d25b7-4790-425e-9614-f55a22fc8faa"
      },
      "outputs": [],
      "source": [
        "# 6. Plot actual vs predicted values\n",
        "plt.figure(figsize=(10, 6))\n",
        "plt.plot(y_test_original.index, y_test_original, label='Actual', color='blue')\n",
        "plt.plot(y_test_original.index, y_pred_original, label='Predicted', color='red', linestyle='--')\n",
        "plt.xlabel('Index')\n",
        "plt.ylabel('Production')\n",
        "plt.legend()\n",
        "plt.title('Actual vs Predicted Production')\n",
        "plt.show()"
      ]
    },
    {
      "cell_type": "markdown",
      "id": "c6111954-f850-483b-8239-6b2481ad3c64",
      "metadata": {
        "id": "c6111954-f850-483b-8239-6b2481ad3c64"
      },
      "source": [
        "<h4>K-Nearest Neighbor</h4>"
      ]
    },
    {
      "cell_type": "code",
      "source": [
        "param_grid = {\n",
        "    'n_neighbors': [3, 5, 7, 9],\n",
        "    'weights': ['uniform', 'distance'],\n",
        "    'metric': ['euclidean', 'manhattan']\n",
        "}\n",
        "\n",
        "grid_search_knn = GridSearchCV(estimator=KNeighborsRegressor(), param_grid=param_grid, scoring='neg_mean_squared_error', cv=3, n_jobs=-1)\n",
        "grid_search_knn.fit(X_train_scaled, y_train)\n",
        "\n",
        "# Best parameters found by GridSearchCV\n",
        "print(\"Best Parameters:\", grid_search_knn.best_params_)\n",
        "\n",
        "# Use the best model\n",
        "model_knn = grid_search_knn.best_estimator_"
      ],
      "metadata": {
        "id": "97rwdoLeYspk"
      },
      "id": "97rwdoLeYspk",
      "execution_count": null,
      "outputs": []
    },
    {
      "cell_type": "code",
      "execution_count": null,
      "id": "5253e2e8-a6ef-4c76-81dd-392278dd9e32",
      "metadata": {
        "id": "5253e2e8-a6ef-4c76-81dd-392278dd9e32"
      },
      "outputs": [],
      "source": [
        "# model_knn = KNeighborsRegressor(n_neighbors=20)\n",
        "knn = KNeighborsRegressor(n_neighbors=7)\n",
        "knn.fit(X_train, y_train)"
      ]
    },
    {
      "cell_type": "code",
      "execution_count": null,
      "id": "b66d83a4-1056-402c-bf88-0fa590bacc3d",
      "metadata": {
        "id": "b66d83a4-1056-402c-bf88-0fa590bacc3d"
      },
      "outputs": [],
      "source": [
        "# make predictions\n",
        "predictions = knn.predict(X_test)\n",
        "y_pred = predictions"
      ]
    },
    {
      "cell_type": "code",
      "execution_count": null,
      "id": "9c6c4660-9b70-48ff-9d1a-950e87cbdbeb",
      "metadata": {
        "id": "9c6c4660-9b70-48ff-9d1a-950e87cbdbeb"
      },
      "outputs": [],
      "source": [
        "y_pred_original = np.exp(y_pred) - 1\n",
        "y_test_original = np.exp(y_test) - 1"
      ]
    },
    {
      "cell_type": "code",
      "execution_count": null,
      "id": "fd73cfba-43a6-464a-b9ee-965f00375d72",
      "metadata": {
        "id": "fd73cfba-43a6-464a-b9ee-965f00375d72"
      },
      "outputs": [],
      "source": [
        "results = pd.DataFrame({'Actual': y_test_original, 'Predicted': y_pred_original})\n",
        "results.head(5)"
      ]
    },
    {
      "cell_type": "code",
      "execution_count": null,
      "id": "570b0bc5-1431-481d-8190-7d33ece28ef6",
      "metadata": {
        "id": "570b0bc5-1431-481d-8190-7d33ece28ef6"
      },
      "outputs": [],
      "source": [
        "# Calculate performance metrics on the test data\n",
        "mae_train = mean_absolute_error(y_test_original, y_pred_original)\n",
        "mse_train = mean_squared_error(y_test_original, y_pred_original)\n",
        "r2_train = r2_score(y_test_original, y_pred_original)\n",
        "mape = np.mean(np.abs((y_test_original - y_pred_original) / y_test_original) * 100)\n",
        "\n",
        "# Create a DataFrame to store the results\n",
        "performance_knn = pd.DataFrame({\n",
        "    'Model': ['MAE', 'MSE', 'MAPE', 'R²'],\n",
        "    'K-Nearest Neighbor': [mae_train, mse_train, mape, r2_train]\n",
        "})\n",
        "\n",
        "# Transpose to make the performance horizontal\n",
        "performance_knn = performance_knn.set_index('Model').T\n",
        "\n",
        "# Display the DataFrame\n",
        "performance_knn"
      ]
    },
    {
      "cell_type": "code",
      "execution_count": null,
      "id": "77fb6c1f-1127-4af3-b712-85ee00133677",
      "metadata": {
        "id": "77fb6c1f-1127-4af3-b712-85ee00133677"
      },
      "outputs": [],
      "source": [
        "# 6. Plot actual vs predicted values\n",
        "plt.figure(figsize=(10, 6))\n",
        "plt.plot(y_test_original.index, y_test_original, label='Actual', color='blue')\n",
        "plt.plot(y_test_original.index, y_pred_original, label='Predicted', color='red', linestyle='--')\n",
        "plt.xlabel('Index')\n",
        "plt.ylabel('Production')\n",
        "plt.legend()\n",
        "plt.title('Actual vs Predicted Production')\n",
        "plt.show()"
      ]
    },
    {
      "cell_type": "markdown",
      "id": "962b4c1a-a59a-48ad-ad8d-4e238514be28",
      "metadata": {
        "id": "962b4c1a-a59a-48ad-ad8d-4e238514be28"
      },
      "source": [
        "<h4>Support Vector Regression</h4>"
      ]
    },
    {
      "cell_type": "code",
      "execution_count": null,
      "id": "4b409052-468a-4eaa-bfb8-f0166530fb66",
      "metadata": {
        "id": "4b409052-468a-4eaa-bfb8-f0166530fb66"
      },
      "outputs": [],
      "source": [
        "param_grid = {\n",
        "     'C': [1, 10, 50, 100],\n",
        "     'epsilon': [0.01, 0.1, 0.2, 0.5],\n",
        "     'kernel': ['rbf', 'linear', 'poly']\n",
        "}\n",
        "\n",
        "# Create a GridSearchCV object to search for the best hyperparameters\n",
        "grid_search = GridSearchCV(estimator=SVR(), param_grid=param_grid, scoring='neg_mean_squared_error', cv=3, n_jobs=-1)\n",
        "\n",
        "# Fit GridSearchCV on the training data\n",
        "grid_search.fit(X_train, y_train)\n",
        "\n",
        "# Best parameter combination found by GridSearchCV\n",
        "print(\"Best parameters:\", grid_search.best_params_)\n",
        "\n",
        "# Use the best model found by GridSearchCV\n",
        "model_svr = grid_search.best_estimator_"
      ]
    },
    {
      "cell_type": "code",
      "execution_count": null,
      "id": "8f3e1b5a-7e2a-4366-a342-9474b2009699",
      "metadata": {
        "id": "8f3e1b5a-7e2a-4366-a342-9474b2009699"
      },
      "outputs": [],
      "source": [
        "# model_svr = SVR(kernel='rbf', C=100, epsilon=0.01)\n",
        "\n",
        "# model_svr.fit(X_train, y_train)"
      ]
    },
    {
      "cell_type": "code",
      "execution_count": null,
      "id": "3f954e11-aa8b-448e-b413-3de9b38d040d",
      "metadata": {
        "id": "3f954e11-aa8b-448e-b413-3de9b38d040d"
      },
      "outputs": [],
      "source": [
        "y_pred = model_svr.predict(X_test)"
      ]
    },
    {
      "cell_type": "code",
      "execution_count": null,
      "id": "d102ee0e-25a3-41f0-a3de-f957125693ed",
      "metadata": {
        "id": "d102ee0e-25a3-41f0-a3de-f957125693ed"
      },
      "outputs": [],
      "source": [
        "y_pred_original = np.exp(y_pred) - 1\n",
        "y_test_original = np.exp(y_test) - 1"
      ]
    },
    {
      "cell_type": "code",
      "execution_count": null,
      "id": "d4eab2fb-747b-4e3c-b53b-3b72fcd9db2e",
      "metadata": {
        "id": "d4eab2fb-747b-4e3c-b53b-3b72fcd9db2e"
      },
      "outputs": [],
      "source": [
        "results = pd.DataFrame({'Actual': y_test_original, 'Predicted': y_pred_original})\n",
        "results.head(5)"
      ]
    },
    {
      "cell_type": "code",
      "execution_count": null,
      "id": "6a40a6b9-d6d4-4f9d-a41a-e9e41db5ab63",
      "metadata": {
        "id": "6a40a6b9-d6d4-4f9d-a41a-e9e41db5ab63"
      },
      "outputs": [],
      "source": [
        "# Calculate performance metrics on the test data\n",
        "mae_train = mean_absolute_error(y_test_original, y_pred_original)\n",
        "mse_train = mean_squared_error(y_test_original, y_pred_original)\n",
        "r2_train = r2_score(y_test_original, y_pred_original)\n",
        "mape = np.mean(np.abs((y_test_original - y_pred_original) / y_test_original) * 100)\n",
        "\n",
        "# Create a DataFrame to store the results\n",
        "performance_svr = pd.DataFrame({\n",
        "    'Model': ['MAE', 'MSE', 'MAPE', 'R²'],\n",
        "    'Support Vector Regression': [mae_train, mse_train, mape, r2_train]\n",
        "})\n",
        "\n",
        "# Transpose to make the performance horizontal\n",
        "performance_svr = performance_svr.set_index('Model').T\n",
        "\n",
        "# Display the DataFrame\n",
        "performance_svr"
      ]
    },
    {
      "cell_type": "code",
      "execution_count": null,
      "id": "8b33b234-b47c-4cbf-a462-26b734931e18",
      "metadata": {
        "id": "8b33b234-b47c-4cbf-a462-26b734931e18"
      },
      "outputs": [],
      "source": [
        "# 6. Plot actual vs predicted values\n",
        "plt.figure(figsize=(10, 6))\n",
        "plt.plot(y_test_original.index, y_test_original, label='Actual', color='blue')\n",
        "plt.plot(y_test_original.index, y_pred_original, label='Predicted', color='red', linestyle='--')\n",
        "plt.xlabel('Index')\n",
        "plt.ylabel('Production')\n",
        "plt.legend()\n",
        "plt.title('Actual vs Predicted Production')\n",
        "plt.show()"
      ]
    },
    {
      "cell_type": "markdown",
      "id": "a2e3dce1-1f4b-4bc1-a6b9-39a63d6d49f4",
      "metadata": {
        "id": "a2e3dce1-1f4b-4bc1-a6b9-39a63d6d49f4"
      },
      "source": [
        "<h4>Aritifical Neural Network</h4>"
      ]
    },
    {
      "cell_type": "code",
      "execution_count": null,
      "id": "141c773b-cbda-43c9-9298-8f1dc0f4fd67",
      "metadata": {
        "id": "141c773b-cbda-43c9-9298-8f1dc0f4fd67"
      },
      "outputs": [],
      "source": [
        "# from tensorflow.keras.models import Sequential\n",
        "# # Build the Artificial Neural Network (ANN) model\n",
        "# model_ann = Sequential()"
      ]
    },
    {
      "cell_type": "code",
      "execution_count": null,
      "id": "500b9fd2-8fae-4b78-8d94-8313438f3667",
      "metadata": {
        "id": "500b9fd2-8fae-4b78-8d94-8313438f3667"
      },
      "outputs": [],
      "source": [
        "# # Input layer (first hidden layer) with 64 neurons and ReLU activation\n",
        "# model_ann.add(Dense(units=64, input_dim=X_train.shape[1], activation='relu'))\n",
        "\n",
        "# # Add a second hidden layer with 32 neurons and ReLU activation\n",
        "# model_ann.add(Dense(units=32, activation='relu'))\n",
        "\n",
        "# # Output layer with 1 neuron (for regression task)\n",
        "# model_ann.add(Dense(units=1))\n",
        "\n",
        "# # Compile the model with Mean Squared Error loss function and Adam optimizer\n",
        "# model_ann.compile(optimizer=Adam(), loss='mean_squared_error')\n",
        "\n",
        "# # Fit the model on the training data (training the neural network)\n",
        "# history = model_ann.fit(X_train, y_train, epochs=50, batch_size=16, validation_data=(X_test, y_test), verbose=1)"
      ]
    },
    {
      "cell_type": "code",
      "execution_count": null,
      "id": "16fd9a89-df98-4e83-a91b-d98fb8ea9e83",
      "metadata": {
        "id": "16fd9a89-df98-4e83-a91b-d98fb8ea9e83"
      },
      "outputs": [],
      "source": [
        "# y_pred = model_ann.predict(X_test)"
      ]
    },
    {
      "cell_type": "code",
      "execution_count": null,
      "id": "d060a3b7-2cbd-4844-9e25-175862513faa",
      "metadata": {
        "id": "d060a3b7-2cbd-4844-9e25-175862513faa"
      },
      "outputs": [],
      "source": [
        "# y_pred_original = np.exp(y_pred) - 1\n",
        "# y_test_original = np.exp(y_test) - 1"
      ]
    },
    {
      "cell_type": "code",
      "execution_count": null,
      "id": "ad8d766f-8328-4bb8-9e96-4ba372aef302",
      "metadata": {
        "id": "ad8d766f-8328-4bb8-9e96-4ba372aef302"
      },
      "outputs": [],
      "source": [
        "# results = pd.DataFrame({'Actual': y_test_original, 'Predicted': y_pred_original})\n",
        "# results.head(5)"
      ]
    },
    {
      "cell_type": "code",
      "execution_count": null,
      "id": "4ad6be46-d489-4331-b19e-b8f498854948",
      "metadata": {
        "id": "4ad6be46-d489-4331-b19e-b8f498854948"
      },
      "outputs": [],
      "source": [
        "# # Calculate performance metrics on the test data\n",
        "# mae_train = mean_absolute_error(y_test_original, y_pred_original)\n",
        "# mse_train = mean_squared_error(y_test_original, y_pred_original)\n",
        "# r2_train = r2_score(y_test_original, y_pred_original)\n",
        "# mape = np.mean(np.abs((y_test_original - y_pred_original) / y_test_original) * 100)\n",
        "\n",
        "# # Create a DataFrame to store the results\n",
        "# performance_ann = pd.DataFrame({\n",
        "#     'Model': ['MAE', 'MSE', 'MAPE', 'R²'],\n",
        "#     'Linear Regression': [mae_train, mse_train, mape, r2_train]\n",
        "# })\n",
        "\n",
        "# # Transpose to make the performance horizontal\n",
        "# performance_ann = performance_ann.set_index('Model').T\n",
        "\n",
        "# # Display the DataFrame\n",
        "# performance_ann"
      ]
    },
    {
      "cell_type": "code",
      "execution_count": null,
      "id": "3f446cc1-5b8c-4fde-abef-a75a945e5be7",
      "metadata": {
        "id": "3f446cc1-5b8c-4fde-abef-a75a945e5be7"
      },
      "outputs": [],
      "source": [
        "# # 6. Plot actual vs predicted values\n",
        "# plt.figure(figsize=(10, 6))\n",
        "# plt.plot(y_test_original.index, y_test_original, label='Actual', color='blue')\n",
        "# plt.plot(y_test_original.index, y_pred_original, label='Predicted', color='red', linestyle='--')\n",
        "# plt.xlabel('Index')\n",
        "# plt.ylabel('Production')\n",
        "# plt.legend()\n",
        "# plt.title('Actual vs Predicted Production')\n",
        "# plt.show()"
      ]
    },
    {
      "cell_type": "markdown",
      "id": "fc3d6583-1227-4b69-9b28-7e072c098fe7",
      "metadata": {
        "id": "fc3d6583-1227-4b69-9b28-7e072c098fe7"
      },
      "source": [
        "<h4>Comparison of Model Performance</h4>"
      ]
    },
    {
      "cell_type": "code",
      "execution_count": null,
      "id": "77b9db0c-95df-4c97-b286-f2881938d10d",
      "metadata": {
        "id": "77b9db0c-95df-4c97-b286-f2881938d10d"
      },
      "outputs": [],
      "source": [
        "merged_performance = pd.concat([performance_xgb, performance_rf, performance_lr, performance_svr, performance_knn], axis=0)"
      ]
    },
    {
      "cell_type": "code",
      "execution_count": null,
      "id": "bf6fa4e6-1ca7-40f9-9343-893e81dba395",
      "metadata": {
        "id": "bf6fa4e6-1ca7-40f9-9343-893e81dba395"
      },
      "outputs": [],
      "source": [
        "merged_performance"
      ]
    }
  ],
  "metadata": {
    "kernelspec": {
      "display_name": "Python 3 (ipykernel)",
      "language": "python",
      "name": "python3"
    },
    "language_info": {
      "codemirror_mode": {
        "name": "ipython",
        "version": 3
      },
      "file_extension": ".py",
      "mimetype": "text/x-python",
      "name": "python",
      "nbconvert_exporter": "python",
      "pygments_lexer": "ipython3",
      "version": "3.12.4"
    },
    "colab": {
      "provenance": []
    }
  },
  "nbformat": 4,
  "nbformat_minor": 5
}